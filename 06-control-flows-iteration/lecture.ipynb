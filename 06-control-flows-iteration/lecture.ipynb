{
 "cells": [
  {
   "cell_type": "markdown",
   "id": "headed-garden",
   "metadata": {
    "slideshow": {
     "slide_type": "slide"
    }
   },
   "source": [
    "# Python 的五十道練習：資料分析的敲門磚\n",
    "\n",
    "> 使用流程控制管理程式區塊的執行：迴圈\n",
    "\n",
    "[數聚點](https://www.datainpoint.com) | 郭耀仁 <yaojenkuo@datainpoint.com>"
   ]
  },
  {
   "cell_type": "markdown",
   "id": "interim-certificate",
   "metadata": {
    "slideshow": {
     "slide_type": "subslide"
    }
   },
   "source": [
    "## 我們將要學習的流程控制\n",
    "\n",
    "- 條件敘述。\n",
    "- **迴圈**。"
   ]
  },
  {
   "cell_type": "markdown",
   "id": "textile-calvin",
   "metadata": {
    "slideshow": {
     "slide_type": "slide"
    }
   },
   "source": [
    "## 讓程式區塊被重複執行的迴圈"
   ]
  },
  {
   "cell_type": "markdown",
   "id": "furnished-brooklyn",
   "metadata": {
    "slideshow": {
     "slide_type": "subslide"
    }
   },
   "source": [
    "## 什麼是迴圈\n",
    "\n",
    "> 迴圈是流程控制的其中一種技巧，可以讓寫作一次的程式區塊被重複執行，常見的應用是重複執行直到條件不成立時或走訪可迭代類別中的所有元素。\n",
    "\n",
    "來源：<https://en.wikipedia.org/wiki/Control_flow#Loops>"
   ]
  },
  {
   "cell_type": "markdown",
   "id": "western-footage",
   "metadata": {
    "slideshow": {
     "slide_type": "subslide"
    }
   },
   "source": [
    "## 迴圈的三個要素\n",
    "\n",
    "1. 起始。\n",
    "2. 終止。\n",
    "3. 如何從起始到終止。"
   ]
  },
  {
   "cell_type": "markdown",
   "id": "prompt-knock",
   "metadata": {
    "slideshow": {
     "slide_type": "subslide"
    }
   },
   "source": [
    "## 兩種常見的迴圈\n",
    "\n",
    "1. `while` 迴圈：重複執行程式區塊直到條件為 `False` 的時候。\n",
    "2. `for` 迴圈：走訪可迭代類別中的所有元素。"
   ]
  },
  {
   "cell_type": "markdown",
   "id": "advised-screw",
   "metadata": {
    "slideshow": {
     "slide_type": "subslide"
    }
   },
   "source": [
    "## 使用 `while` 依據條件決定是否重複執行程式區塊\n",
    "\n",
    "```python\n",
    "while 條件:\n",
    "    # 依附 while 敘述的程式區塊。\n",
    "    # 當條件為 True 的時候程式區塊會被重複執行。\n",
    "    # 當條件為 False 的時候停止執行程式區塊。\n",
    "```"
   ]
  },
  {
   "cell_type": "markdown",
   "id": "scheduled-consciousness",
   "metadata": {
    "slideshow": {
     "slide_type": "subslide"
    }
   },
   "source": [
    "## 使用關係運算符或者邏輯運算符描述條件\n",
    "\n",
    "- 關係運算符：`==`, `!=`, `>`, `<`, `>=`, `<=`, `in`, `not in`\n",
    "- 邏輯運算符：`and`, `or`, `not`"
   ]
  },
  {
   "cell_type": "markdown",
   "id": "pleased-universal",
   "metadata": {
    "slideshow": {
     "slide_type": "subslide"
    }
   },
   "source": [
    "## 如何寫作一個 `while` 迴圈\n",
    "\n",
    "- 在迴圈程式區塊之前定義一個物件設定起始值。\n",
    "- 設計條件讓程式區塊重複執行的次數符合我們的需求。\n",
    "- 記得在程式區塊中更新物件的值。"
   ]
  },
  {
   "cell_type": "markdown",
   "id": "boring-background",
   "metadata": {
    "slideshow": {
     "slide_type": "subslide"
    }
   },
   "source": [
    "## 如何寫作一個 `while` 迴圈：印出 5 次 `\"Hello, world!\"`\n",
    "\n",
    "透過 [pythontutor.com](https://pythontutor.com/visualize.html#code=number_of_prints%20%3D%200%0Awhile%20number_of_prints%20%3C%205%3A%0A%20%20%20%20print%28%22Hello,%20world!%22%29%0A%20%20%20%20number_of_prints%20%3D%20number_of_prints%20%2B%201&cumulative=false&curInstr=0&heapPrimitives=nevernest&mode=display&origin=opt-frontend.js&py=3&rawInputLstJSON=%5B%5D&textReferences=false) 拆解程式執行的每個步驟。"
   ]
  },
  {
   "cell_type": "code",
   "execution_count": 1,
   "id": "dated-fighter",
   "metadata": {},
   "outputs": [
    {
     "name": "stdout",
     "output_type": "stream",
     "text": [
      "Hello, world!\n",
      "Hello, world!\n",
      "Hello, world!\n",
      "Hello, world!\n",
      "Hello, world!\n"
     ]
    }
   ],
   "source": [
    "number_of_prints = 0\n",
    "while number_of_prints < 5:\n",
    "    print(\"Hello, world!\")\n",
    "    number_of_prints = number_of_prints + 1"
   ]
  },
  {
   "cell_type": "markdown",
   "id": "academic-foundation",
   "metadata": {
    "slideshow": {
     "slide_type": "subslide"
    }
   },
   "source": [
    "## 在程式區塊中更新物件的值更常會使用複合運算符（Compound operators）\n",
    "\n",
    "- `integer += 1` 等同於 `integer = integer + 1` \n",
    "- `integer -= 1` 等同於 `integer = integer - 1` \n",
    "- `integer *= 1` 等同於 `integer = integer * 1` \n",
    "- `integer /= 1` 等同於 `integer = integer / 1` \n",
    "- ...等。"
   ]
  },
  {
   "cell_type": "markdown",
   "id": "hungry-violation",
   "metadata": {
    "slideshow": {
     "slide_type": "subslide"
    }
   },
   "source": [
    "## 如何寫作一個 `while` 迴圈：印出小於 10 的奇數\n",
    "\n",
    "透過 [pythontutor.com](https://pythontutor.com/visualize.html#code=odd%20%3D%201%0Awhile%20odd%20%3C%2010%3A%0A%20%20%20%20print%28odd%29%0A%20%20%20%20odd%20%2B%3D%202%20%23%20odd%20%3D%20odd%20%2B%202&cumulative=false&curInstr=0&heapPrimitives=nevernest&mode=display&origin=opt-frontend.js&py=3&rawInputLstJSON=%5B%5D&textReferences=false) 拆解程式執行的每個步驟。"
   ]
  },
  {
   "cell_type": "code",
   "execution_count": 2,
   "id": "moved-elizabeth",
   "metadata": {},
   "outputs": [
    {
     "name": "stdout",
     "output_type": "stream",
     "text": [
      "1\n",
      "3\n",
      "5\n",
      "7\n",
      "9\n"
     ]
    }
   ],
   "source": [
    "odd = 1\n",
    "while odd < 10:\n",
    "    print(odd)\n",
    "    odd += 2 # odd = odd + 2"
   ]
  },
  {
   "cell_type": "markdown",
   "id": "upset-millennium",
   "metadata": {
    "slideshow": {
     "slide_type": "subslide"
    }
   },
   "source": [
    "## 如何寫作一個 `while` 迴圈：從週一印到週五\n",
    "\n",
    "透過 [pythontutor.com](https://pythontutor.com/visualize.html#code=weekdays%20%3D%20%5B%22Monday%22,%20%22Tuesday%22,%20%22Wednesday%22,%20%22Thursday%22,%20%22Friday%22%5D%0Aindex%20%3D%200%0Awhile%20index%20%3C%20len%28weekdays%29%3A%0A%20%20%20%20print%28weekdays%5Bindex%5D%29%0A%20%20%20%20index%20%2B%3D%201&cumulative=false&curInstr=0&heapPrimitives=nevernest&mode=display&origin=opt-frontend.js&py=3&rawInputLstJSON=%5B%5D&textReferences=false) 拆解程式執行的每個步驟。"
   ]
  },
  {
   "cell_type": "code",
   "execution_count": 3,
   "id": "raised-somerset",
   "metadata": {},
   "outputs": [
    {
     "name": "stdout",
     "output_type": "stream",
     "text": [
      "Monday\n",
      "Tuesday\n",
      "Wednesday\n",
      "Thursday\n",
      "Friday\n"
     ]
    }
   ],
   "source": [
    "weekdays = [\"Monday\", \"Tuesday\", \"Wednesday\", \"Thursday\", \"Friday\"]\n",
    "index = 0\n",
    "while index < len(weekdays):\n",
    "    print(weekdays[index])\n",
    "    index += 1"
   ]
  },
  {
   "cell_type": "markdown",
   "id": "affiliated-exhaust",
   "metadata": {
    "slideshow": {
     "slide_type": "subslide"
    }
   },
   "source": [
    "## 使用 `for` 走訪可迭代類別（Iterables）中的所有元素\n",
    "\n",
    "```python\n",
    "for 元素 in 可迭代類別:\n",
    "    # 依附 for 敘述的程式區塊。\n",
    "    # 當可迭代類別還沒有走訪完的時候程式區塊會被重複執行。\n",
    "    # 當可迭代類別走訪完的時候停止執行程式區塊。\n",
    "```"
   ]
  },
  {
   "cell_type": "markdown",
   "id": "documented-cooperative",
   "metadata": {
    "slideshow": {
     "slide_type": "subslide"
    }
   },
   "source": [
    "## 什麼是可迭代類別\n",
    "\n",
    "具有一次回傳其中一個資料值特性的類別、輸入到內建函數 `iter()` 不會產生錯誤的類別，都屬於可迭代類別（Iterables），常見的有 `str` 與資料結構。\n",
    "\n",
    "- 資料類別：`str`\n",
    "- 資料結構類別：`list`、`tuple`、`dict`、`set`"
   ]
  },
  {
   "cell_type": "code",
   "execution_count": 4,
   "id": "portuguese-arena",
   "metadata": {
    "slideshow": {
     "slide_type": "-"
    }
   },
   "outputs": [
    {
     "data": {
      "text/plain": [
       "<list_iterator at 0x105966710>"
      ]
     },
     "execution_count": 4,
     "metadata": {},
     "output_type": "execute_result"
    }
   ],
   "source": [
    "luke = \"Luke Skywalker\"\n",
    "primes = [2, 3, 5, 7, 11]\n",
    "iter(luke)\n",
    "iter(primes)"
   ]
  },
  {
   "cell_type": "markdown",
   "id": "conventional-complexity",
   "metadata": {
    "slideshow": {
     "slide_type": "subslide"
    }
   },
   "source": [
    "## 什麼是不可迭代的類別\n",
    "\n",
    "任何輸入到內建函數 `iter()` 會產生錯誤的類別都是不可迭代類別，像是 `int`、`float` 與 `bool` 等。"
   ]
  },
  {
   "cell_type": "code",
   "execution_count": 5,
   "id": "corporate-wheat",
   "metadata": {
    "slideshow": {
     "slide_type": "subslide"
    }
   },
   "outputs": [
    {
     "name": "stdout",
     "output_type": "stream",
     "text": [
      "'int' object is not iterable\n"
     ]
    }
   ],
   "source": [
    "i_am_int = 5566\n",
    "try:\n",
    "    iter(i_am_int)\n",
    "except TypeError as error_message:\n",
    "    print(error_message)"
   ]
  },
  {
   "cell_type": "code",
   "execution_count": 6,
   "id": "wooden-burden",
   "metadata": {
    "slideshow": {
     "slide_type": "-"
    }
   },
   "outputs": [
    {
     "name": "stdout",
     "output_type": "stream",
     "text": [
      "'float' object is not iterable\n"
     ]
    }
   ],
   "source": [
    "i_am_float = 5566.0\n",
    "try:\n",
    "    iter(i_am_float)\n",
    "except TypeError as error_message:\n",
    "    print(error_message)"
   ]
  },
  {
   "cell_type": "code",
   "execution_count": 7,
   "id": "different-wings",
   "metadata": {},
   "outputs": [
    {
     "name": "stdout",
     "output_type": "stream",
     "text": [
      "'bool' object is not iterable\n"
     ]
    }
   ],
   "source": [
    "i_am_bool = False\n",
    "try:\n",
    "    iter(i_am_bool)\n",
    "except TypeError as error_message:\n",
    "    print(error_message)"
   ]
  },
  {
   "cell_type": "markdown",
   "id": "academic-cattle",
   "metadata": {
    "slideshow": {
     "slide_type": "subslide"
    }
   },
   "source": [
    "## 如何寫作一個 `for` 迴圈\n",
    "\n",
    "- 建立一個可迭代類別。\n",
    "- 可迭代類別如果是數列，可透過內建函數 `range()` 建立。"
   ]
  },
  {
   "cell_type": "markdown",
   "id": "minimal-import",
   "metadata": {
    "slideshow": {
     "slide_type": "subslide"
    }
   },
   "source": [
    "## `range()` 函數有三個參數可以設定數列內容\n",
    "\n",
    "1. `start` 數列的起始整數，即第 0 個整數（包含），預設值為 0。\n",
    "2. `stop` 數列的終止整數，即第 -1 個整數（排除）。\n",
    "3. `step` 數列的公差，預設值為 1。"
   ]
  },
  {
   "cell_type": "code",
   "execution_count": 8,
   "id": "northern-southeast",
   "metadata": {
    "slideshow": {
     "slide_type": "-"
    }
   },
   "outputs": [
    {
     "name": "stdout",
     "output_type": "stream",
     "text": [
      "Help on class range in module builtins:\n",
      "\n",
      "class range(object)\n",
      " |  range(stop) -> range object\n",
      " |  range(start, stop[, step]) -> range object\n",
      " |\n",
      " |  Return an object that produces a sequence of integers from start (inclusive)\n",
      " |  to stop (exclusive) by step.  range(i, j) produces i, i+1, i+2, ..., j-1.\n",
      " |  start defaults to 0, and stop is omitted!  range(4) produces 0, 1, 2, 3.\n",
      " |  These are exactly the valid indices for a list of 4 elements.\n",
      " |  When step is given, it specifies the increment (or decrement).\n",
      " |\n",
      " |  Methods defined here:\n",
      " |\n",
      " |  __bool__(self, /)\n",
      " |      True if self else False\n",
      " |\n",
      " |  __contains__(self, key, /)\n",
      " |      Return bool(key in self).\n",
      " |\n",
      " |  __eq__(self, value, /)\n",
      " |      Return self==value.\n",
      " |\n",
      " |  __ge__(self, value, /)\n",
      " |      Return self>=value.\n",
      " |\n",
      " |  __getattribute__(self, name, /)\n",
      " |      Return getattr(self, name).\n",
      " |\n",
      " |  __getitem__(self, key, /)\n",
      " |      Return self[key].\n",
      " |\n",
      " |  __gt__(self, value, /)\n",
      " |      Return self>value.\n",
      " |\n",
      " |  __hash__(self, /)\n",
      " |      Return hash(self).\n",
      " |\n",
      " |  __iter__(self, /)\n",
      " |      Implement iter(self).\n",
      " |\n",
      " |  __le__(self, value, /)\n",
      " |      Return self<=value.\n",
      " |\n",
      " |  __len__(self, /)\n",
      " |      Return len(self).\n",
      " |\n",
      " |  __lt__(self, value, /)\n",
      " |      Return self<value.\n",
      " |\n",
      " |  __ne__(self, value, /)\n",
      " |      Return self!=value.\n",
      " |\n",
      " |  __reduce__(...)\n",
      " |      Helper for pickle.\n",
      " |\n",
      " |  __repr__(self, /)\n",
      " |      Return repr(self).\n",
      " |\n",
      " |  __reversed__(...)\n",
      " |      Return a reverse iterator.\n",
      " |\n",
      " |  count(...)\n",
      " |      rangeobject.count(value) -> integer -- return number of occurrences of value\n",
      " |\n",
      " |  index(...)\n",
      " |      rangeobject.index(value) -> integer -- return index of value.\n",
      " |      Raise ValueError if the value is not present.\n",
      " |\n",
      " |  ----------------------------------------------------------------------\n",
      " |  Static methods defined here:\n",
      " |\n",
      " |  __new__(*args, **kwargs)\n",
      " |      Create and return a new object.  See help(type) for accurate signature.\n",
      " |\n",
      " |  ----------------------------------------------------------------------\n",
      " |  Data descriptors defined here:\n",
      " |\n",
      " |  start\n",
      " |\n",
      " |  step\n",
      " |\n",
      " |  stop\n",
      "\n"
     ]
    }
   ],
   "source": [
    "help(range)"
   ]
  },
  {
   "cell_type": "markdown",
   "id": "quantitative-correspondence",
   "metadata": {
    "slideshow": {
     "slide_type": "subslide"
    }
   },
   "source": [
    "## 如何寫作一個 `for` 迴圈：印出 5 次 `\"Hello, world!\"`\n",
    "\n",
    "透過 [pythontutor.com](https://pythontutor.com/visualize.html#code=for%20element%20in%20range%280,%205,%201%29%3A%0A%20%20%20%20print%28%22Hello,%20world!%22%29&cumulative=false&curInstr=0&heapPrimitives=nevernest&mode=display&origin=opt-frontend.js&py=3&rawInputLstJSON=%5B%5D&textReferences=false) 拆解程式執行的每個步驟。"
   ]
  },
  {
   "cell_type": "code",
   "execution_count": 9,
   "id": "derived-fraud",
   "metadata": {
    "slideshow": {
     "slide_type": "-"
    }
   },
   "outputs": [
    {
     "name": "stdout",
     "output_type": "stream",
     "text": [
      "Hello, world!\n",
      "Hello, world!\n",
      "Hello, world!\n",
      "Hello, world!\n",
      "Hello, world!\n"
     ]
    }
   ],
   "source": [
    "for element in range(0, 5, 1):\n",
    "    print(\"Hello, world!\")"
   ]
  },
  {
   "cell_type": "markdown",
   "id": "elect-child",
   "metadata": {
    "slideshow": {
     "slide_type": "subslide"
    }
   },
   "source": [
    "## （沒有什麼用的冷知識）如果程式區塊中並沒有用到可迭代類別中的元素\n",
    "\n",
    "可以將元素命名為 `_` 特別點明。"
   ]
  },
  {
   "cell_type": "code",
   "execution_count": 10,
   "id": "confirmed-mission",
   "metadata": {
    "slideshow": {
     "slide_type": "-"
    }
   },
   "outputs": [
    {
     "name": "stdout",
     "output_type": "stream",
     "text": [
      "Hello, world!\n",
      "Hello, world!\n",
      "Hello, world!\n",
      "Hello, world!\n",
      "Hello, world!\n"
     ]
    }
   ],
   "source": [
    "for _ in range(0, 5, 1):\n",
    "    print(\"Hello, world!\")"
   ]
  },
  {
   "cell_type": "markdown",
   "id": "breathing-stuff",
   "metadata": {
    "slideshow": {
     "slide_type": "subslide"
    }
   },
   "source": [
    "## 如何寫作一個 `for` 迴圈：印出小於 10 的奇數\n",
    "\n",
    "透過 [pythontutor.com](https://pythontutor.com/visualize.html#code=for%20odd%20in%20range%281,%2010,%202%29%3A%0A%20%20%20%20print%28odd%29&cumulative=false&curInstr=0&heapPrimitives=nevernest&mode=display&origin=opt-frontend.js&py=3&rawInputLstJSON=%5B%5D&textReferences=false) 拆解程式執行的每個步驟。"
   ]
  },
  {
   "cell_type": "code",
   "execution_count": 11,
   "id": "english-marsh",
   "metadata": {},
   "outputs": [
    {
     "name": "stdout",
     "output_type": "stream",
     "text": [
      "1\n",
      "3\n",
      "5\n",
      "7\n",
      "9\n"
     ]
    }
   ],
   "source": [
    "for odd in range(1, 10, 2):\n",
    "    print(odd)"
   ]
  },
  {
   "cell_type": "markdown",
   "id": "executive-willow",
   "metadata": {
    "slideshow": {
     "slide_type": "subslide"
    }
   },
   "source": [
    "## 如何寫作一個 `for` 迴圈：從週一印到週五\n",
    "\n",
    "透過 [pythontutor.com](https://pythontutor.com/visualize.html#code=weekdays%20%3D%20%5B%22Monday%22,%20%22Tuesday%22,%20%22Wednesday%22,%20%22Thursday%22,%20%22Friday%22%5D%0Afor%20weekday%20in%20weekdays%3A%0A%20%20%20%20print%28weekday%29&cumulative=false&curInstr=0&heapPrimitives=nevernest&mode=display&origin=opt-frontend.js&py=3&rawInputLstJSON=%5B%5D&textReferences=false) 拆解程式執行的每個步驟。"
   ]
  },
  {
   "cell_type": "code",
   "execution_count": 12,
   "id": "occupied-connecticut",
   "metadata": {},
   "outputs": [
    {
     "name": "stdout",
     "output_type": "stream",
     "text": [
      "Monday\n",
      "Tuesday\n",
      "Wednesday\n",
      "Thursday\n",
      "Friday\n"
     ]
    }
   ],
   "source": [
    "weekdays = [\"Monday\", \"Tuesday\", \"Wednesday\", \"Thursday\", \"Friday\"]\n",
    "for weekday in weekdays:\n",
    "    print(weekday)"
   ]
  },
  {
   "cell_type": "markdown",
   "id": "painful-broadway",
   "metadata": {
    "slideshow": {
     "slide_type": "subslide"
    }
   },
   "source": [
    "## 如何抉擇使用哪種迴圈，`for` 迴圈或 `while` 迴圈\n",
    "\n",
    "- 先思考問題是否能夠建立可迭代類別？\n",
    "- 如果可以，代表程式區塊被重複執行的次數**已知**，選擇 `for` 迴圈。\n",
    "- 如果不可以，代表程式區塊被重複執行的次數**未知**，選擇 `while` 迴圈。"
   ]
  },
  {
   "cell_type": "markdown",
   "id": "flush-athletics",
   "metadata": {
    "slideshow": {
     "slide_type": "subslide"
    }
   },
   "source": [
    "## 重複執行的次數未知：輾轉相除法"
   ]
  },
  {
   "cell_type": "code",
   "execution_count": 13,
   "id": "young-soccer",
   "metadata": {},
   "outputs": [],
   "source": [
    "def divide_reiteratively(x, divisor):\n",
    "    while x > 0:\n",
    "        remainder = x % divisor\n",
    "        quotient = x // divisor\n",
    "        print(f\"{x} / {divisor} = {quotient} ... {remainder}\")\n",
    "        x //= divisor"
   ]
  },
  {
   "cell_type": "code",
   "execution_count": 14,
   "id": "accepting-parking",
   "metadata": {
    "slideshow": {
     "slide_type": "subslide"
    }
   },
   "outputs": [
    {
     "name": "stdout",
     "output_type": "stream",
     "text": [
      "5 / 2 = 2 ... 1\n",
      "2 / 2 = 1 ... 0\n",
      "1 / 2 = 0 ... 1\n",
      "\n",
      "56 / 2 = 28 ... 0\n",
      "28 / 2 = 14 ... 0\n",
      "14 / 2 = 7 ... 0\n",
      "7 / 2 = 3 ... 1\n",
      "3 / 2 = 1 ... 1\n",
      "1 / 2 = 0 ... 1\n"
     ]
    }
   ],
   "source": [
    "divide_reiteratively(5, 2)\n",
    "print(\"\")\n",
    "divide_reiteratively(56, 2)"
   ]
  },
  {
   "cell_type": "markdown",
   "id": "backed-subscription",
   "metadata": {
    "slideshow": {
     "slide_type": "subslide"
    }
   },
   "source": [
    "## 常見的迴圈應用\n",
    "\n",
    "- 走訪 `str` 或資料結構。\n",
    "- 可迭代類別的加總、乘積與計數。\n",
    "- 合併資料成為 `str`、`list` 或者 `dict`。"
   ]
  },
  {
   "cell_type": "markdown",
   "id": "preceding-boards",
   "metadata": {
    "slideshow": {
     "slide_type": "subslide"
    }
   },
   "source": [
    "## 走訪 `str` 或資料結構\n",
    "\n",
    "1. 走訪 `str`、`list`、`tuple`、`set`\n",
    "2. 走訪 `dict`"
   ]
  },
  {
   "cell_type": "markdown",
   "id": "german-lighter",
   "metadata": {
    "slideshow": {
     "slide_type": "subslide"
    }
   },
   "source": [
    "## 如何走訪 `str`、`list`、`tuple`、`set`"
   ]
  },
  {
   "cell_type": "code",
   "execution_count": 15,
   "id": "explicit-vacuum",
   "metadata": {
    "slideshow": {
     "slide_type": "-"
    }
   },
   "outputs": [],
   "source": [
    "def iterate_str_list_tuple_set(an_iterable):\n",
    "    for element in an_iterable:\n",
    "        print(element)\n",
    "        \n",
    "luke = \"Luke Skywalker\"\n",
    "weekdays_list = [\"Monday\", \"Tuesday\", \"Wednesday\", \"Thursday\", \"Friday\"]\n",
    "weekdays_tuple = tuple(weekdays_list)\n",
    "weekdays_set = set(weekdays_list)"
   ]
  },
  {
   "cell_type": "code",
   "execution_count": 16,
   "id": "sweet-sperm",
   "metadata": {
    "slideshow": {
     "slide_type": "subslide"
    }
   },
   "outputs": [
    {
     "name": "stdout",
     "output_type": "stream",
     "text": [
      "L\n",
      "u\n",
      "k\n",
      "e\n",
      " \n",
      "S\n",
      "k\n",
      "y\n",
      "w\n",
      "a\n",
      "l\n",
      "k\n",
      "e\n",
      "r\n"
     ]
    }
   ],
   "source": [
    "iterate_str_list_tuple_set(luke) # iterate over a str"
   ]
  },
  {
   "cell_type": "code",
   "execution_count": 17,
   "id": "integrated-humidity",
   "metadata": {
    "slideshow": {
     "slide_type": "subslide"
    }
   },
   "outputs": [
    {
     "name": "stdout",
     "output_type": "stream",
     "text": [
      "Monday\n",
      "Tuesday\n",
      "Wednesday\n",
      "Thursday\n",
      "Friday\n"
     ]
    }
   ],
   "source": [
    "iterate_str_list_tuple_set(weekdays_list)  # iterate over a list"
   ]
  },
  {
   "cell_type": "code",
   "execution_count": 18,
   "id": "purple-network",
   "metadata": {
    "slideshow": {
     "slide_type": "-"
    }
   },
   "outputs": [
    {
     "name": "stdout",
     "output_type": "stream",
     "text": [
      "Monday\n",
      "Tuesday\n",
      "Wednesday\n",
      "Thursday\n",
      "Friday\n"
     ]
    }
   ],
   "source": [
    "iterate_str_list_tuple_set(weekdays_tuple) # iterate over a tuple"
   ]
  },
  {
   "cell_type": "code",
   "execution_count": 19,
   "id": "technical-curve",
   "metadata": {
    "slideshow": {
     "slide_type": "-"
    }
   },
   "outputs": [
    {
     "name": "stdout",
     "output_type": "stream",
     "text": [
      "Thursday\n",
      "Monday\n",
      "Tuesday\n",
      "Wednesday\n",
      "Friday\n"
     ]
    }
   ],
   "source": [
    "iterate_str_list_tuple_set(weekdays_set)   # iterate over a set"
   ]
  },
  {
   "cell_type": "markdown",
   "id": "blank-worker",
   "metadata": {
    "slideshow": {
     "slide_type": "subslide"
    }
   },
   "source": [
    "## 如何走訪 `dict`\n",
    "\n",
    "善用三個 `dict` 方法：\n",
    "\n",
    "1. `dict.keys()`\n",
    "2. `dict.values()`\n",
    "3. `dict.items()`"
   ]
  },
  {
   "cell_type": "code",
   "execution_count": 20,
   "id": "friendly-extreme",
   "metadata": {
    "slideshow": {
     "slide_type": "-"
    }
   },
   "outputs": [
    {
     "data": {
      "text/plain": [
       "dict"
      ]
     },
     "execution_count": 20,
     "metadata": {},
     "output_type": "execute_result"
    }
   ],
   "source": [
    "the_shawshank_redemption = {\n",
    "    'title': 'The Shawshank Redemption',\n",
    "    'year': 1994,\n",
    "    'rating': 9.3,\n",
    "    'director': 'Frank Darabont'\n",
    "}\n",
    "type(the_shawshank_redemption)"
   ]
  },
  {
   "cell_type": "markdown",
   "id": "premium-process",
   "metadata": {
    "slideshow": {
     "slide_type": "subslide"
    }
   },
   "source": [
    "## 預設走訪 `dict` 的「鍵」"
   ]
  },
  {
   "cell_type": "code",
   "execution_count": 21,
   "id": "contrary-beginning",
   "metadata": {},
   "outputs": [
    {
     "name": "stdout",
     "output_type": "stream",
     "text": [
      "title\n",
      "year\n",
      "rating\n",
      "director\n"
     ]
    }
   ],
   "source": [
    "for key in the_shawshank_redemption:\n",
    "    print(key)"
   ]
  },
  {
   "cell_type": "code",
   "execution_count": 22,
   "id": "sweet-praise",
   "metadata": {
    "slideshow": {
     "slide_type": "-"
    }
   },
   "outputs": [
    {
     "name": "stdout",
     "output_type": "stream",
     "text": [
      "title\n",
      "year\n",
      "rating\n",
      "director\n"
     ]
    }
   ],
   "source": [
    "for k in the_shawshank_redemption.keys():\n",
    "    print(k)"
   ]
  },
  {
   "cell_type": "markdown",
   "id": "pretty-sensitivity",
   "metadata": {
    "slideshow": {
     "slide_type": "subslide"
    }
   },
   "source": [
    "## 指定走訪 `dict` 的「值」"
   ]
  },
  {
   "cell_type": "code",
   "execution_count": 23,
   "id": "professional-machine",
   "metadata": {
    "slideshow": {
     "slide_type": "-"
    }
   },
   "outputs": [
    {
     "name": "stdout",
     "output_type": "stream",
     "text": [
      "The Shawshank Redemption\n",
      "1994\n",
      "9.3\n",
      "Frank Darabont\n"
     ]
    }
   ],
   "source": [
    "for value in the_shawshank_redemption.values():\n",
    "    print(value)"
   ]
  },
  {
   "cell_type": "markdown",
   "id": "moved-gauge",
   "metadata": {
    "slideshow": {
     "slide_type": "subslide"
    }
   },
   "source": [
    "## 同時走訪 `dict` 的「鍵」與「值」"
   ]
  },
  {
   "cell_type": "code",
   "execution_count": 24,
   "id": "developing-disposition",
   "metadata": {
    "slideshow": {
     "slide_type": "-"
    }
   },
   "outputs": [
    {
     "name": "stdout",
     "output_type": "stream",
     "text": [
      "dict_items([('title', 'The Shawshank Redemption'), ('year', 1994), ('rating', 9.3), ('director', 'Frank Darabont')])\n",
      "title: The Shawshank Redemption\n",
      "year: 1994\n",
      "rating: 9.3\n",
      "director: Frank Darabont\n"
     ]
    }
   ],
   "source": [
    "dict_items = the_shawshank_redemption.items()\n",
    "print(dict_items)\n",
    "for key, value in dict_items:\n",
    "    print(f\"{key}: {value}\")"
   ]
  },
  {
   "cell_type": "markdown",
   "id": "dental-march",
   "metadata": {
    "slideshow": {
     "slide_type": "subslide"
    }
   },
   "source": [
    "## 可迭代類別的加總、乘積與計數\n",
    "\n",
    "- 在迴圈程式區塊之前定義一個物件設定起始值。\n",
    "- 在程式區塊中更新物件的值。\n",
    "\n",
    "透過 [pythontutor.com](https://pythontutor.com/visualize.html#code=summation%20%3D%200%0Aproduct%20%3D%201%0Acount%20%3D%200%0Aprimes%20%3D%20%5B2,%203,%205,%207,%2011%5D%0Afor%20prime%20in%20primes%3A%0A%20%20%20%20summation%20%2B%3D%20prime%0A%20%20%20%20product%20*%3D%20prime%0A%20%20%20%20count%20%2B%3D%201%0Aprint%28summation%29%0Aprint%28product%29%0Aprint%28count%29&cumulative=false&curInstr=0&heapPrimitives=nevernest&mode=display&origin=opt-frontend.js&py=3&rawInputLstJSON=%5B%5D&textReferences=false) 拆解程式執行的每個步驟。"
   ]
  },
  {
   "cell_type": "code",
   "execution_count": 25,
   "id": "ready-potential",
   "metadata": {
    "slideshow": {
     "slide_type": "-"
    }
   },
   "outputs": [
    {
     "name": "stdout",
     "output_type": "stream",
     "text": [
      "28\n",
      "2310\n",
      "5\n"
     ]
    }
   ],
   "source": [
    "summation = 0\n",
    "product = 1\n",
    "count = 0\n",
    "primes = [2, 3, 5, 7, 11]\n",
    "for prime in primes:\n",
    "    summation += prime\n",
    "    product *= prime\n",
    "    count += 1\n",
    "print(summation)\n",
    "print(product)\n",
    "print(count)"
   ]
  },
  {
   "cell_type": "markdown",
   "id": "entitled-element",
   "metadata": {
    "slideshow": {
     "slide_type": "subslide"
    }
   },
   "source": [
    "## 可迭代類別的加總與計數\n",
    "\n",
    "善用內建函數 `sum()` 以及 `len()` 就可以得知加總與計數。"
   ]
  },
  {
   "cell_type": "code",
   "execution_count": 26,
   "id": "specialized-costume",
   "metadata": {},
   "outputs": [
    {
     "name": "stdout",
     "output_type": "stream",
     "text": [
      "28\n",
      "5\n"
     ]
    }
   ],
   "source": [
    "print(sum(primes))\n",
    "print(len(primes))"
   ]
  },
  {
   "cell_type": "markdown",
   "id": "median-nickel",
   "metadata": {
    "slideshow": {
     "slide_type": "subslide"
    }
   },
   "source": [
    "## 合併資料成為 `str`、`list` 或者 `dict`\n",
    "\n",
    "- 運用 `+` 運算符連接元素成為 `str`\n",
    "- 運用 `+` 運算符連接 lists\n",
    "- 運用 `list.append()` 方法合併元素成為 `list`\n",
    "- 運用 `dict[key]=value` 合併元素成為 `dict`"
   ]
  },
  {
   "cell_type": "markdown",
   "id": "signal-steam",
   "metadata": {
    "slideshow": {
     "slide_type": "subslide"
    }
   },
   "source": [
    "## 運用 `+` 運算符連接元素成為 `str`\n",
    "\n",
    "透過 [pythontutor.com](https://pythontutor.com/visualize.html#code=vowels%20%3D%20%5B%22a%22,%20%22e%22,%20%22i%22,%20%22o%22,%20%22u%22,%20%22A%22,%20%22E%22,%20%22I%22,%20%22O%22,%20%22U%22%5D%0Avowels_str%20%3D%20str%28%29%20%23%20an%20empty%20str%0Afor%20vowel%20in%20vowels%3A%0A%20%20%20%20vowels_str%20%2B%3D%20vowel%0Aprint%28vowels_str%29&cumulative=false&curInstr=0&heapPrimitives=nevernest&mode=display&origin=opt-frontend.js&py=3&rawInputLstJSON=%5B%5D&textReferences=false) 拆解程式執行的每個步驟。"
   ]
  },
  {
   "cell_type": "code",
   "execution_count": 27,
   "id": "sharing-shape",
   "metadata": {},
   "outputs": [
    {
     "name": "stdout",
     "output_type": "stream",
     "text": [
      "aeiouAEIOU\n"
     ]
    }
   ],
   "source": [
    "vowels = [\"a\", \"e\", \"i\", \"o\", \"u\", \"A\", \"E\", \"I\", \"O\", \"U\"]\n",
    "vowels_str = str() # an empty str\n",
    "for vowel in vowels:\n",
    "    vowels_str += vowel\n",
    "print(vowels_str)"
   ]
  },
  {
   "cell_type": "markdown",
   "id": "metropolitan-uruguay",
   "metadata": {
    "slideshow": {
     "slide_type": "subslide"
    }
   },
   "source": [
    "## 運用 `+` 運算符連接 lists\n",
    "\n",
    "透過 [pythontutor.com](https://pythontutor.com/visualize.html#code=vowels%20%3D%20%5B%5B%22a%22,%20%22e%22,%20%22i%22,%20%22o%22,%20%22u%22%5D,%20%5B%22A%22,%20%22E%22,%20%22I%22,%20%22O%22,%20%22U%22%5D%5D%0Aflat_vowels%20%3D%20list%28%29%0Afor%20vowel%20in%20vowels%3A%0A%20%20%20%20flat_vowels%20%2B%3D%20vowel%0Aflat_vowels&cumulative=false&curInstr=0&heapPrimitives=nevernest&mode=display&origin=opt-frontend.js&py=3&rawInputLstJSON=%5B%5D&textReferences=false) 拆解程式執行的每個步驟。"
   ]
  },
  {
   "cell_type": "code",
   "execution_count": 28,
   "id": "legal-liquid",
   "metadata": {},
   "outputs": [
    {
     "data": {
      "text/plain": [
       "['a', 'e', 'i', 'o', 'u', 'A', 'E', 'I', 'O', 'U']"
      ]
     },
     "execution_count": 28,
     "metadata": {},
     "output_type": "execute_result"
    }
   ],
   "source": [
    "vowels = [[\"a\", \"e\", \"i\", \"o\", \"u\"], [\"A\", \"E\", \"I\", \"O\", \"U\"]]\n",
    "flat_vowels = list()\n",
    "for vowel in vowels:\n",
    "    flat_vowels += vowel\n",
    "flat_vowels"
   ]
  },
  {
   "cell_type": "markdown",
   "id": "valued-daisy",
   "metadata": {
    "slideshow": {
     "slide_type": "subslide"
    }
   },
   "source": [
    "## 運用 `list.append()` 方法合併元素成為 `list`\n",
    "\n",
    "透過 [pythontutor.com](https://pythontutor.com/visualize.html#code=vowels%20%3D%20%5B%5B%22a%22,%20%22e%22,%20%22i%22,%20%22o%22,%20%22u%22%5D,%20%5B%22A%22,%20%22E%22,%20%22I%22,%20%22O%22,%20%22U%22%5D%5D%0Aflat_vowels%20%3D%20list%28%29%0Afor%20v_list%20in%20vowels%3A%0A%20%20%20%20for%20v%20in%20v_list%3A%0A%20%20%20%20%20%20%20%20flat_vowels.append%28v%29%0Aflat_vowels&cumulative=false&curInstr=0&heapPrimitives=nevernest&mode=display&origin=opt-frontend.js&py=3&rawInputLstJSON=%5B%5D&textReferences=false) 拆解程式執行的每個步驟。"
   ]
  },
  {
   "cell_type": "code",
   "execution_count": 29,
   "id": "reduced-fleece",
   "metadata": {},
   "outputs": [
    {
     "data": {
      "text/plain": [
       "['a', 'e', 'i', 'o', 'u', 'A', 'E', 'I', 'O', 'U']"
      ]
     },
     "execution_count": 29,
     "metadata": {},
     "output_type": "execute_result"
    }
   ],
   "source": [
    "vowels = [[\"a\", \"e\", \"i\", \"o\", \"u\"], [\"A\", \"E\", \"I\", \"O\", \"U\"]]\n",
    "flat_vowels = list()\n",
    "for v_list in vowels:\n",
    "    for v in v_list:\n",
    "        flat_vowels.append(v)\n",
    "flat_vowels"
   ]
  },
  {
   "cell_type": "markdown",
   "id": "electoral-warning",
   "metadata": {
    "slideshow": {
     "slide_type": "subslide"
    }
   },
   "source": [
    "## 運用 `dict[key]=value` 合併元素成為 `dict`\n",
    "\n",
    "透過 [pythontutor.com](https://pythontutor.com/visualize.html#code=days_of_week%20%3D%20%5B%22Sunday%22,%20%22Monday%22,%20%22Tuesday%22,%20%22Wednesday%22,%20%22Thursday%22,%20%22Friday%22,%20%22Saturday%22%5D%0Adays_of_week_dict%20%3D%20dict%28%29%0Afor%20day%20in%20days_of_week%3A%0A%20%20%20%20day_upper%20%3D%20day.upper%28%29%20%23%20upper-case%0A%20%20%20%20day_abbreviation%20%3D%20day_upper%5B%3A3%5D%20%23%20abbreviation%0A%20%20%20%20days_of_week_dict%5Bday_abbreviation%5D%20%3D%20day%0Adays_of_week_dict&cumulative=false&curInstr=0&heapPrimitives=nevernest&mode=display&origin=opt-frontend.js&py=3&rawInputLstJSON=%5B%5D&textReferences=false) 拆解程式執行的每個步驟。"
   ]
  },
  {
   "cell_type": "code",
   "execution_count": 30,
   "id": "demographic-activity",
   "metadata": {},
   "outputs": [
    {
     "data": {
      "text/plain": [
       "{'SUN': 'Sunday',\n",
       " 'MON': 'Monday',\n",
       " 'TUE': 'Tuesday',\n",
       " 'WED': 'Wednesday',\n",
       " 'THU': 'Thursday',\n",
       " 'FRI': 'Friday',\n",
       " 'SAT': 'Saturday'}"
      ]
     },
     "execution_count": 30,
     "metadata": {},
     "output_type": "execute_result"
    }
   ],
   "source": [
    "days_of_week = [\"Sunday\", \"Monday\", \"Tuesday\", \"Wednesday\", \"Thursday\", \"Friday\", \"Saturday\"]\n",
    "days_of_week_dict = dict()\n",
    "for day in days_of_week:\n",
    "    day_upper = day.upper() # upper-case\n",
    "    day_abbreviation = day_upper[:3] # abbreviation\n",
    "    days_of_week_dict[day_abbreviation] = day\n",
    "days_of_week_dict"
   ]
  },
  {
   "cell_type": "markdown",
   "id": "cultural-taiwan",
   "metadata": {
    "slideshow": {
     "slide_type": "subslide"
    }
   },
   "source": [
    "## 以兩個保留字調整迴圈的重複執行次數\n",
    "\n",
    "1. `break` 保留字可以提早結束。\n",
    "2. `continue` 保留字可以略過某些執行次數。"
   ]
  },
  {
   "cell_type": "markdown",
   "id": "union-couple",
   "metadata": {
    "slideshow": {
     "slide_type": "subslide"
    }
   },
   "source": [
    "## 遇到星期四提早結束\n",
    "\n",
    "透過 [pythontutor.com](https://pythontutor.com/visualize.html#code=days_of_week%20%3D%20%5B%22Sunday%22,%20%22Monday%22,%20%22Tuesday%22,%20%22Wednesday%22,%20%22Thursday%22,%20%22Friday%22,%20%22Saturday%22%5D%0Afor%20day%20in%20days_of_week%3A%0A%20%20%20%20if%20day%20%3D%3D%20%22Thursday%22%3A%0A%20%20%20%20%20%20%20%20break%0A%20%20%20%20print%28day%29&cumulative=false&curInstr=0&heapPrimitives=nevernest&mode=display&origin=opt-frontend.js&py=3&rawInputLstJSON=%5B%5D&textReferences=false) 拆解程式執行的每個步驟。"
   ]
  },
  {
   "cell_type": "code",
   "execution_count": 31,
   "id": "meaning-development",
   "metadata": {
    "slideshow": {
     "slide_type": "-"
    }
   },
   "outputs": [
    {
     "name": "stdout",
     "output_type": "stream",
     "text": [
      "Sunday\n",
      "Monday\n",
      "Tuesday\n",
      "Wednesday\n"
     ]
    }
   ],
   "source": [
    "days_of_week = [\"Sunday\", \"Monday\", \"Tuesday\", \"Wednesday\", \"Thursday\", \"Friday\", \"Saturday\"]\n",
    "for day in days_of_week:\n",
    "    if day == \"Thursday\":\n",
    "        break\n",
    "    print(day)"
   ]
  },
  {
   "cell_type": "markdown",
   "id": "assisted-expense",
   "metadata": {
    "slideshow": {
     "slide_type": "subslide"
    }
   },
   "source": [
    "## 略過週末\n",
    "\n",
    "透過 [pythontutor.com](https://pythontutor.com/visualize.html#code=days_of_week%20%3D%20%5B%22Sunday%22,%20%22Monday%22,%20%22Tuesday%22,%20%22Wednesday%22,%20%22Thursday%22,%20%22Friday%22,%20%22Saturday%22%5D%0Afor%20day%20in%20days_of_week%3A%0A%20%20%20%20if%20day%20in%20%7B%22Sunday%22,%20%22Saturday%22%7D%3A%0A%20%20%20%20%20%20%20%20continue%0A%20%20%20%20print%28day%29&cumulative=false&curInstr=0&heapPrimitives=nevernest&mode=display&origin=opt-frontend.js&py=3&rawInputLstJSON=%5B%5D&textReferences=false) 拆解程式執行的每個步驟。"
   ]
  },
  {
   "cell_type": "code",
   "execution_count": 32,
   "id": "painted-sister",
   "metadata": {},
   "outputs": [
    {
     "name": "stdout",
     "output_type": "stream",
     "text": [
      "Monday\n",
      "Tuesday\n",
      "Wednesday\n",
      "Thursday\n",
      "Friday\n"
     ]
    }
   ],
   "source": [
    "days_of_week = [\"Sunday\", \"Monday\", \"Tuesday\", \"Wednesday\", \"Thursday\", \"Friday\", \"Saturday\"]\n",
    "for day in days_of_week:\n",
    "    if day in {\"Sunday\", \"Saturday\"}:\n",
    "        continue\n",
    "    print(day)"
   ]
  },
  {
   "cell_type": "markdown",
   "id": "aerial-carter",
   "metadata": {
    "slideshow": {
     "slide_type": "slide"
    }
   },
   "source": [
    "## 重點統整\n",
    "\n",
    "- 兩種常見的迴圈：`while` 迴圈與 `for` 迴圈。\n",
    "- 常見的迴圈應用：\n",
    "    - 走訪 `str` 或資料結構。\n",
    "    - 可迭代類別的加總乘積與計數。\n",
    "    - 合併資料。"
   ]
  }
 ],
 "metadata": {
  "celltoolbar": "Slideshow",
  "kernelspec": {
   "display_name": "Python 3 (ipykernel)",
   "language": "python",
   "name": "python3"
  },
  "language_info": {
   "codemirror_mode": {
    "name": "ipython",
    "version": 3
   },
   "file_extension": ".py",
   "mimetype": "text/x-python",
   "name": "python",
   "nbconvert_exporter": "python",
   "pygments_lexer": "ipython3",
   "version": "3.12.7"
  }
 },
 "nbformat": 4,
 "nbformat_minor": 5
}
