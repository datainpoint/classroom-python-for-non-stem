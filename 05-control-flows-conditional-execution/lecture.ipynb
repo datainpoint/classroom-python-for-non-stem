{
 "cells": [
  {
   "cell_type": "markdown",
   "id": "headed-garden",
   "metadata": {
    "slideshow": {
     "slide_type": "slide"
    }
   },
   "source": [
    "# Python 的五十道練習：資料分析的敲門磚\n",
    "\n",
    "> 使用流程控制管理程式區塊的執行：條件敘述\n",
    "\n",
    "[數聚點](https://www.datainpoint.com) | 郭耀仁 <yaojenkuo@datainpoint.com>"
   ]
  },
  {
   "cell_type": "markdown",
   "id": "excellent-prairie",
   "metadata": {
    "slideshow": {
     "slide_type": "slide"
    }
   },
   "source": [
    "## 關於流程控制"
   ]
  },
  {
   "cell_type": "markdown",
   "id": "heard-minute",
   "metadata": {
    "slideshow": {
     "slide_type": "subslide"
    }
   },
   "source": [
    "## 什麼是流程控制\n",
    "\n",
    "多數程式語言都會從程式碼的第一列開始按照列（Row-wise）的順序往下讀取並且執行，但是在某些情況下，我們會希望依據特定的條件來決定程式的執行與否、重複次數以及錯誤發生時該如何應對，這時就可以透過流程控制的結構機制來滿足這些情況。"
   ]
  },
  {
   "cell_type": "markdown",
   "id": "interim-certificate",
   "metadata": {
    "slideshow": {
     "slide_type": "subslide"
    }
   },
   "source": [
    "## 我們將要學習的流程控制\n",
    "\n",
    "- **條件敘述**。\n",
    "- 迴圈。"
   ]
  },
  {
   "cell_type": "markdown",
   "id": "appreciated-intensity",
   "metadata": {
    "slideshow": {
     "slide_type": "slide"
    }
   },
   "source": [
    "## 認識程式區塊"
   ]
  },
  {
   "cell_type": "markdown",
   "id": "alternate-interim",
   "metadata": {
    "slideshow": {
     "slide_type": "subslide"
    }
   },
   "source": [
    "## 什麼是程式區塊\n",
    "\n",
    "> 程式區塊（Code block）有時也被稱為複合語句，是將程式組合並產生依附關係的結構，由一個或多個敘述所組成。\n",
    "\n",
    "來源：<https://en.wikipedia.org/wiki/Block_(programming)>"
   ]
  },
  {
   "cell_type": "markdown",
   "id": "arbitrary-johns",
   "metadata": {
    "slideshow": {
     "slide_type": "subslide"
    }
   },
   "source": [
    "## Python 使用四個空白作為縮排（Indentation）標註程式區塊\n",
    "\n",
    "- 多數程式語言使用大括號 `{}` 來標註程式碼所依附的特定保留字。\n",
    "- 一段程式碼的依附關係從縮排開始直到第一個未縮排的結束。\n",
    "- 縮排必須隨著依附保留字的數量而增加。"
   ]
  },
  {
   "cell_type": "markdown",
   "id": "legal-cooperative",
   "metadata": {
    "slideshow": {
     "slide_type": "subslide"
    }
   },
   "source": [
    "## 什麼時候需要用到程式區塊\n",
    "\n",
    "- 流程控制。\n",
    "- 定義函數與類別。"
   ]
  },
  {
   "cell_type": "markdown",
   "id": "humanitarian-aaron",
   "metadata": {
    "slideshow": {
     "slide_type": "slide"
    }
   },
   "source": [
    "## 決定程式區塊是否被執行的條件敘述"
   ]
  },
  {
   "cell_type": "markdown",
   "id": "average-criminal",
   "metadata": {
    "slideshow": {
     "slide_type": "subslide"
    }
   },
   "source": [
    "## 什麼是條件敘述\n",
    "\n",
    "> 條件敘述是依指定運算的結果為 `False` 或 `True`，來決定是否執行一段程式區塊。\n",
    "\n",
    "來源：https://en.wikipedia.org/wiki/Conditional_(computer_programming)"
   ]
  },
  {
   "cell_type": "markdown",
   "id": "complex-exemption",
   "metadata": {
    "slideshow": {
     "slide_type": "subslide"
    }
   },
   "source": [
    "## 使用「條件」與「縮排」建立條件敘述\n",
    "\n",
    "- 條件指的是一段能夠被解讀為 `bool` 的敘述。\n",
    "- 縮排是 Python 用來辨識程式碼依附區塊的結構，要特別留意。"
   ]
  },
  {
   "cell_type": "markdown",
   "id": "entitled-retreat",
   "metadata": {
    "slideshow": {
     "slide_type": "subslide"
    }
   },
   "source": [
    "## 使用 `if` 依據條件決定是否執行程式區塊\n",
    "\n",
    "```python\n",
    "if 條件:\n",
    "    # 依附 if 敘述的程式區塊。\n",
    "    # 當條件為 True 的時候程式區塊才會被執行。\n",
    "```"
   ]
  },
  {
   "cell_type": "markdown",
   "id": "committed-mills",
   "metadata": {
    "slideshow": {
     "slide_type": "subslide"
    }
   },
   "source": [
    "## 使用關係運算符或者邏輯運算符描述條件\n",
    "\n",
    "- 關係運算符：`==`, `!=`, `>`, `<`, `>=`, `<=`, `in`, `not in`\n",
    "- 邏輯運算符：`and`, `or`, `not`"
   ]
  },
  {
   "cell_type": "code",
   "execution_count": 1,
   "id": "toxic-breed",
   "metadata": {
    "slideshow": {
     "slide_type": "subslide"
    }
   },
   "outputs": [
    {
     "name": "stdout",
     "output_type": "stream",
     "text": [
      "56 is positive.\n",
      "None\n",
      "None\n"
     ]
    }
   ],
   "source": [
    "def return_message_if_positive(x):\n",
    "    if x > 0:\n",
    "        return f\"{x} is positive.\"\n",
    "\n",
    "print(return_message_if_positive(56))\n",
    "print(return_message_if_positive(-56))\n",
    "print(return_message_if_positive(0))"
   ]
  },
  {
   "cell_type": "markdown",
   "id": "fourth-aside",
   "metadata": {
    "slideshow": {
     "slide_type": "subslide"
    }
   },
   "source": [
    "## 使用 `if...else...` 依據條件決定執行兩個程式區塊其中的一個\n",
    "\n",
    "```python\n",
    "if 條件:\n",
    "    # 依附 if 敘述的程式區塊。\n",
    "    # 當條件為 True 的時候會被執行。\n",
    "else:\n",
    "    # 依附 else 敘述的程式區塊。\n",
    "    # 當條件為 False 的時候會被執行。\n",
    "```"
   ]
  },
  {
   "cell_type": "code",
   "execution_count": 2,
   "id": "broke-somalia",
   "metadata": {
    "slideshow": {
     "slide_type": "subslide"
    }
   },
   "outputs": [
    {
     "name": "stdout",
     "output_type": "stream",
     "text": [
      "56 is positive.\n",
      "0 is not positive.\n",
      "-56 is not positive.\n"
     ]
    }
   ],
   "source": [
    "def return_message_whether_positive_or_not(x):\n",
    "    if x > 0:\n",
    "        return f\"{x} is positive.\"\n",
    "    else:\n",
    "        return f\"{x} is not positive.\"\n",
    "\n",
    "print(return_message_whether_positive_or_not(56))\n",
    "print(return_message_whether_positive_or_not(0))\n",
    "print(return_message_whether_positive_or_not(-56))"
   ]
  },
  {
   "cell_type": "markdown",
   "id": "relevant-domestic",
   "metadata": {
    "slideshow": {
     "slide_type": "subslide"
    }
   },
   "source": [
    "## 使用 `if...elif...else...` 依據條件決定執行多個程式區塊其中的一個\n",
    "\n",
    "```python\n",
    "if 條件一:\n",
    "    # 依附 if 敘述的程式區塊。\n",
    "    # 當條件一為 True 的時候會被執行。\n",
    "elif 條件二:\n",
    "    # 依附 elif 敘述的程式區塊。\n",
    "    # 當條件一為 False 、條件二為 True 的時候會被執行。\n",
    "else:\n",
    "    # 依附 else 敘述的程式區塊。\n",
    "    # 當條件一、條件二均為 False 的時候會被執行。\n",
    "```"
   ]
  },
  {
   "cell_type": "code",
   "execution_count": 3,
   "id": "fiscal-tissue",
   "metadata": {
    "slideshow": {
     "slide_type": "subslide"
    }
   },
   "outputs": [
    {
     "name": "stdout",
     "output_type": "stream",
     "text": [
      "56 is positive.\n",
      "-56 is negative.\n",
      "0 is neutral.\n"
     ]
    }
   ],
   "source": [
    "def return_message_whether_positive_negative_or_neutral(x):\n",
    "    if x > 0:\n",
    "        return f\"{x} is positive.\"\n",
    "    elif x < 0:\n",
    "        return f\"{x} is negative.\"\n",
    "    else:\n",
    "        return f\"{x} is neutral.\"\n",
    "\n",
    "print(return_message_whether_positive_negative_or_neutral(56))\n",
    "print(return_message_whether_positive_negative_or_neutral(-56))\n",
    "print(return_message_whether_positive_negative_or_neutral(0))"
   ]
  },
  {
   "cell_type": "markdown",
   "id": "blocked-engineer",
   "metadata": {
    "slideshow": {
     "slide_type": "subslide"
    }
   },
   "source": [
    "## 使用 `if...elif...` 把所有的條件都寫清楚\n",
    "\n",
    "不一定非要加入 `else`"
   ]
  },
  {
   "cell_type": "code",
   "execution_count": 4,
   "id": "honey-gothic",
   "metadata": {
    "slideshow": {
     "slide_type": "-"
    }
   },
   "outputs": [
    {
     "name": "stdout",
     "output_type": "stream",
     "text": [
      "56 is positive.\n",
      "-56 is negative.\n",
      "0 is neutral.\n"
     ]
    }
   ],
   "source": [
    "def return_message_whether_positive_negative_or_neutral(x):\n",
    "    if x > 0:\n",
    "        return f\"{x} is positive.\"\n",
    "    elif x < 0:\n",
    "        return f\"{x} is negative.\"\n",
    "    elif x == 0:\n",
    "        return f\"{x} is neutral.\"\n",
    "\n",
    "print(return_message_whether_positive_negative_or_neutral(56))\n",
    "print(return_message_whether_positive_negative_or_neutral(-56))\n",
    "print(return_message_whether_positive_negative_or_neutral(0))"
   ]
  },
  {
   "cell_type": "markdown",
   "id": "fancy-illness",
   "metadata": {
    "slideshow": {
     "slide_type": "subslide"
    }
   },
   "source": [
    "## 一組條件敘述的結構僅會執行「其中一個」程式區塊\n",
    "\n",
    "- 如果條件彼此之間**互斥**，寫作條件的先後順序**沒有**影響。\n",
    "- 如果條件彼此之間**非互斥**，寫作條件的先後順序**有**影響。"
   ]
  },
  {
   "cell_type": "markdown",
   "id": "middle-essay",
   "metadata": {
    "slideshow": {
     "slide_type": "subslide"
    }
   },
   "source": [
    "## 以自行定義的 `return_message_whether_positive_negative_or_neutral()` 函數為例\n",
    "\n",
    "- 我們將條件一 `x > 0` 更改為 `x >= 0` 讓條件一與條件三**非互斥**\n",
    "- 我們將條件二 `x < 0` 更改為 `x <= 0` 讓條件二與條件三**非互斥**"
   ]
  },
  {
   "cell_type": "markdown",
   "id": "impaired-commitment",
   "metadata": {
    "slideshow": {
     "slide_type": "subslide"
    }
   },
   "source": [
    "## 維持原本寫作條件的先後順序\n",
    "\n",
    "輸入零使得條件一為 `True`，因為一組條件敘述的結構僅會執行「其中一個」程式區塊的特性，條件三以及它的程式區塊將永遠沒有派上用場的機會。"
   ]
  },
  {
   "cell_type": "code",
   "execution_count": 5,
   "id": "perfect-christianity",
   "metadata": {
    "slideshow": {
     "slide_type": "-"
    }
   },
   "outputs": [
    {
     "name": "stdout",
     "output_type": "stream",
     "text": [
      "0 is positive.\n"
     ]
    }
   ],
   "source": [
    "def return_message_whether_positive_negative_or_neutral(x):\n",
    "    if x >= 0:\n",
    "        return f\"{x} is positive.\"\n",
    "    elif x <= 0:\n",
    "        return f\"{x} is negative.\"\n",
    "    elif x == 0:\n",
    "        return f\"{x} is neutral.\"\n",
    "\n",
    "print(return_message_whether_positive_negative_or_neutral(0))"
   ]
  },
  {
   "cell_type": "markdown",
   "id": "loved-snowboard",
   "metadata": {
    "slideshow": {
     "slide_type": "subslide"
    }
   },
   "source": [
    "## 調整寫作條件的先後順序\n",
    "\n",
    "將條件三與條件一的順序互換，這時函數的運作才會跟原本條件彼此之間**互斥**時相同。"
   ]
  },
  {
   "cell_type": "code",
   "execution_count": 6,
   "id": "sporting-shadow",
   "metadata": {},
   "outputs": [
    {
     "name": "stdout",
     "output_type": "stream",
     "text": [
      "0 is neutral.\n"
     ]
    }
   ],
   "source": [
    "def return_message_whether_positive_negative_or_neutral(x):\n",
    "    if x == 0:   \n",
    "        return f\"{x} is neutral.\"\n",
    "    elif x <= 0:\n",
    "        return f\"{x} is negative.\"\n",
    "    elif x >= 0:\n",
    "        return f\"{x} is positive.\"\n",
    "\n",
    "print(return_message_whether_positive_negative_or_neutral(0))"
   ]
  },
  {
   "cell_type": "markdown",
   "id": "funky-shell",
   "metadata": {
    "slideshow": {
     "slide_type": "subslide"
    }
   },
   "source": [
    "## 以 Fizz buzz 為例\n",
    "\n",
    "> 從 1 數到 100，碰到 3 的倍數改為 Fizz、碰到 5 的倍數改為 Buzz，碰到 15 的倍數改為 Fizz Buzz，其餘情況不改動。\n",
    "\n",
    "來源：<https://en.wikipedia.org/wiki/Fizz_buzz>"
   ]
  },
  {
   "cell_type": "markdown",
   "id": "mental-illinois",
   "metadata": {
    "slideshow": {
     "slide_type": "subslide"
    }
   },
   "source": [
    "## Fizz buzz 值得注意的地方\n",
    "\n",
    "條件彼此之間**非**互斥（15 是 3 與 5 的公倍數），寫作條件的先後順序**有**影響。"
   ]
  },
  {
   "cell_type": "markdown",
   "id": "wicked-kidney",
   "metadata": {
    "slideshow": {
     "slide_type": "subslide"
    }
   },
   "source": [
    "## 使用 `if...elif...` 定義 `fizz_buzz()` 函數"
   ]
  },
  {
   "cell_type": "code",
   "execution_count": 7,
   "id": "suspended-relief",
   "metadata": {
    "slideshow": {
     "slide_type": "-"
    }
   },
   "outputs": [
    {
     "name": "stdout",
     "output_type": "stream",
     "text": [
      "2\n",
      "Fizz\n",
      "Buzz\n",
      "Fizz Buzz\n"
     ]
    }
   ],
   "source": [
    "def fizz_buzz(x):\n",
    "    if x % 3 != 0 and x % 5 != 0 and x % 15 != 0:\n",
    "        return x\n",
    "    elif x % 15 == 0:\n",
    "        return \"Fizz Buzz\"\n",
    "    elif x % 3 == 0:\n",
    "        return \"Fizz\"\n",
    "    elif x % 5 == 0:\n",
    "        return \"Buzz\"\n",
    "\n",
    "print(fizz_buzz(2))\n",
    "print(fizz_buzz(3))\n",
    "print(fizz_buzz(5))\n",
    "print(fizz_buzz(15))"
   ]
  },
  {
   "cell_type": "markdown",
   "id": "acquired-fetish",
   "metadata": {
    "slideshow": {
     "slide_type": "subslide"
    }
   },
   "source": [
    "## 使用 `if...elif...else...` 定義 `fizz_buzz()` 函數"
   ]
  },
  {
   "cell_type": "code",
   "execution_count": 8,
   "id": "amino-calcium",
   "metadata": {},
   "outputs": [
    {
     "name": "stdout",
     "output_type": "stream",
     "text": [
      "2\n",
      "Fizz\n",
      "Buzz\n",
      "Fizz Buzz\n"
     ]
    }
   ],
   "source": [
    "def fizz_buzz(x):\n",
    "    if x % 15 == 0:\n",
    "        return \"Fizz Buzz\"\n",
    "    elif x % 3 == 0:\n",
    "        return \"Fizz\"\n",
    "    elif x % 5 == 0:\n",
    "        return \"Buzz\"\n",
    "    else:\n",
    "        return x\n",
    "\n",
    "print(fizz_buzz(2))\n",
    "print(fizz_buzz(3))\n",
    "print(fizz_buzz(5))\n",
    "print(fizz_buzz(15))"
   ]
  },
  {
   "cell_type": "markdown",
   "id": "middle-sunglasses",
   "metadata": {
    "slideshow": {
     "slide_type": "subslide"
    }
   },
   "source": [
    "## 假如在寫作條件敘述時不想要去考慮條件的先後順序\n",
    "\n",
    "那就要記得把條件描述為**互斥**。"
   ]
  },
  {
   "cell_type": "code",
   "execution_count": 9,
   "id": "cubic-chosen",
   "metadata": {},
   "outputs": [
    {
     "name": "stdout",
     "output_type": "stream",
     "text": [
      "2\n",
      "Fizz\n",
      "Buzz\n",
      "Fizz Buzz\n"
     ]
    }
   ],
   "source": [
    "def fizz_buzz(x):\n",
    "    if x % 3 == 0 and x % 15 != 0:\n",
    "        return \"Fizz\"\n",
    "    elif x % 5 == 0 and x % 15 != 0:\n",
    "        return \"Buzz\"\n",
    "    elif x % 15 == 0:\n",
    "        return \"Fizz Buzz\"\n",
    "    else:\n",
    "        return x\n",
    "\n",
    "print(fizz_buzz(2))\n",
    "print(fizz_buzz(3))\n",
    "print(fizz_buzz(5))\n",
    "print(fizz_buzz(15))"
   ]
  },
  {
   "cell_type": "markdown",
   "id": "aerial-carter",
   "metadata": {
    "slideshow": {
     "slide_type": "slide"
    }
   },
   "source": [
    "## 重點統整\n",
    "\n",
    "- 流程控制包含：條件敘述與迴圈。\n",
    "- 條件敘述中，如果條件彼此之間互斥，寫作條件的先後順序沒有影響；如果條件彼此之間非互斥，寫作條件的先後順序有影響。"
   ]
  }
 ],
 "metadata": {
  "celltoolbar": "Slideshow",
  "kernelspec": {
   "display_name": "Python 3 (ipykernel)",
   "language": "python",
   "name": "python3"
  },
  "language_info": {
   "codemirror_mode": {
    "name": "ipython",
    "version": 3
   },
   "file_extension": ".py",
   "mimetype": "text/x-python",
   "name": "python",
   "nbconvert_exporter": "python",
   "pygments_lexer": "ipython3",
   "version": "3.12.7"
  }
 },
 "nbformat": 4,
 "nbformat_minor": 5
}
